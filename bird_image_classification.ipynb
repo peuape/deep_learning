{
  "cells": [
    {
      "cell_type": "markdown",
      "source": [
        "# **Task:Bird classification with CNN**\n",
        "\n",
        "\n",
        "Data set of 525 bird species. 84635 training images, 2625 test images(5 images per species) and 2625 validation images(5 images per species)\n",
        "\n",
        "*Accuracy of a random classifier: 0.4%\n",
        "\n",
        "**1. CNN without data augmentation**"
      ],
      "metadata": {
        "id": "WzGChF0WsGdb"
      }
    },
    {
      "cell_type": "markdown",
      "source": [
        "1 Download the data"
      ],
      "metadata": {
        "id": "PiXFLRpStV8S"
      }
    },
    {
      "cell_type": "code",
      "source": [
        "! pip install -q kaggle"
      ],
      "metadata": {
        "id": "g3cfYPgmt8kf"
      },
      "execution_count": 1,
      "outputs": []
    },
    {
      "cell_type": "code",
      "source": [
        "from google.colab import files\n",
        "files.upload()"
      ],
      "metadata": {
        "colab": {
          "base_uri": "https://localhost:8080/",
          "height": 92
        },
        "id": "Mw2P62eSumBr",
        "outputId": "ca770cb3-522c-460f-a9e3-7cefb6f12463"
      },
      "execution_count": 2,
      "outputs": [
        {
          "output_type": "display_data",
          "data": {
            "text/plain": [
              "<IPython.core.display.HTML object>"
            ],
            "text/html": [
              "\n",
              "     <input type=\"file\" id=\"files-3882847e-b6ba-40a4-bb12-452117592e69\" name=\"files[]\" multiple disabled\n",
              "        style=\"border:none\" />\n",
              "     <output id=\"result-3882847e-b6ba-40a4-bb12-452117592e69\">\n",
              "      Upload widget is only available when the cell has been executed in the\n",
              "      current browser session. Please rerun this cell to enable.\n",
              "      </output>\n",
              "      <script>// Copyright 2017 Google LLC\n",
              "//\n",
              "// Licensed under the Apache License, Version 2.0 (the \"License\");\n",
              "// you may not use this file except in compliance with the License.\n",
              "// You may obtain a copy of the License at\n",
              "//\n",
              "//      http://www.apache.org/licenses/LICENSE-2.0\n",
              "//\n",
              "// Unless required by applicable law or agreed to in writing, software\n",
              "// distributed under the License is distributed on an \"AS IS\" BASIS,\n",
              "// WITHOUT WARRANTIES OR CONDITIONS OF ANY KIND, either express or implied.\n",
              "// See the License for the specific language governing permissions and\n",
              "// limitations under the License.\n",
              "\n",
              "/**\n",
              " * @fileoverview Helpers for google.colab Python module.\n",
              " */\n",
              "(function(scope) {\n",
              "function span(text, styleAttributes = {}) {\n",
              "  const element = document.createElement('span');\n",
              "  element.textContent = text;\n",
              "  for (const key of Object.keys(styleAttributes)) {\n",
              "    element.style[key] = styleAttributes[key];\n",
              "  }\n",
              "  return element;\n",
              "}\n",
              "\n",
              "// Max number of bytes which will be uploaded at a time.\n",
              "const MAX_PAYLOAD_SIZE = 100 * 1024;\n",
              "\n",
              "function _uploadFiles(inputId, outputId) {\n",
              "  const steps = uploadFilesStep(inputId, outputId);\n",
              "  const outputElement = document.getElementById(outputId);\n",
              "  // Cache steps on the outputElement to make it available for the next call\n",
              "  // to uploadFilesContinue from Python.\n",
              "  outputElement.steps = steps;\n",
              "\n",
              "  return _uploadFilesContinue(outputId);\n",
              "}\n",
              "\n",
              "// This is roughly an async generator (not supported in the browser yet),\n",
              "// where there are multiple asynchronous steps and the Python side is going\n",
              "// to poll for completion of each step.\n",
              "// This uses a Promise to block the python side on completion of each step,\n",
              "// then passes the result of the previous step as the input to the next step.\n",
              "function _uploadFilesContinue(outputId) {\n",
              "  const outputElement = document.getElementById(outputId);\n",
              "  const steps = outputElement.steps;\n",
              "\n",
              "  const next = steps.next(outputElement.lastPromiseValue);\n",
              "  return Promise.resolve(next.value.promise).then((value) => {\n",
              "    // Cache the last promise value to make it available to the next\n",
              "    // step of the generator.\n",
              "    outputElement.lastPromiseValue = value;\n",
              "    return next.value.response;\n",
              "  });\n",
              "}\n",
              "\n",
              "/**\n",
              " * Generator function which is called between each async step of the upload\n",
              " * process.\n",
              " * @param {string} inputId Element ID of the input file picker element.\n",
              " * @param {string} outputId Element ID of the output display.\n",
              " * @return {!Iterable<!Object>} Iterable of next steps.\n",
              " */\n",
              "function* uploadFilesStep(inputId, outputId) {\n",
              "  const inputElement = document.getElementById(inputId);\n",
              "  inputElement.disabled = false;\n",
              "\n",
              "  const outputElement = document.getElementById(outputId);\n",
              "  outputElement.innerHTML = '';\n",
              "\n",
              "  const pickedPromise = new Promise((resolve) => {\n",
              "    inputElement.addEventListener('change', (e) => {\n",
              "      resolve(e.target.files);\n",
              "    });\n",
              "  });\n",
              "\n",
              "  const cancel = document.createElement('button');\n",
              "  inputElement.parentElement.appendChild(cancel);\n",
              "  cancel.textContent = 'Cancel upload';\n",
              "  const cancelPromise = new Promise((resolve) => {\n",
              "    cancel.onclick = () => {\n",
              "      resolve(null);\n",
              "    };\n",
              "  });\n",
              "\n",
              "  // Wait for the user to pick the files.\n",
              "  const files = yield {\n",
              "    promise: Promise.race([pickedPromise, cancelPromise]),\n",
              "    response: {\n",
              "      action: 'starting',\n",
              "    }\n",
              "  };\n",
              "\n",
              "  cancel.remove();\n",
              "\n",
              "  // Disable the input element since further picks are not allowed.\n",
              "  inputElement.disabled = true;\n",
              "\n",
              "  if (!files) {\n",
              "    return {\n",
              "      response: {\n",
              "        action: 'complete',\n",
              "      }\n",
              "    };\n",
              "  }\n",
              "\n",
              "  for (const file of files) {\n",
              "    const li = document.createElement('li');\n",
              "    li.append(span(file.name, {fontWeight: 'bold'}));\n",
              "    li.append(span(\n",
              "        `(${file.type || 'n/a'}) - ${file.size} bytes, ` +\n",
              "        `last modified: ${\n",
              "            file.lastModifiedDate ? file.lastModifiedDate.toLocaleDateString() :\n",
              "                                    'n/a'} - `));\n",
              "    const percent = span('0% done');\n",
              "    li.appendChild(percent);\n",
              "\n",
              "    outputElement.appendChild(li);\n",
              "\n",
              "    const fileDataPromise = new Promise((resolve) => {\n",
              "      const reader = new FileReader();\n",
              "      reader.onload = (e) => {\n",
              "        resolve(e.target.result);\n",
              "      };\n",
              "      reader.readAsArrayBuffer(file);\n",
              "    });\n",
              "    // Wait for the data to be ready.\n",
              "    let fileData = yield {\n",
              "      promise: fileDataPromise,\n",
              "      response: {\n",
              "        action: 'continue',\n",
              "      }\n",
              "    };\n",
              "\n",
              "    // Use a chunked sending to avoid message size limits. See b/62115660.\n",
              "    let position = 0;\n",
              "    do {\n",
              "      const length = Math.min(fileData.byteLength - position, MAX_PAYLOAD_SIZE);\n",
              "      const chunk = new Uint8Array(fileData, position, length);\n",
              "      position += length;\n",
              "\n",
              "      const base64 = btoa(String.fromCharCode.apply(null, chunk));\n",
              "      yield {\n",
              "        response: {\n",
              "          action: 'append',\n",
              "          file: file.name,\n",
              "          data: base64,\n",
              "        },\n",
              "      };\n",
              "\n",
              "      let percentDone = fileData.byteLength === 0 ?\n",
              "          100 :\n",
              "          Math.round((position / fileData.byteLength) * 100);\n",
              "      percent.textContent = `${percentDone}% done`;\n",
              "\n",
              "    } while (position < fileData.byteLength);\n",
              "  }\n",
              "\n",
              "  // All done.\n",
              "  yield {\n",
              "    response: {\n",
              "      action: 'complete',\n",
              "    }\n",
              "  };\n",
              "}\n",
              "\n",
              "scope.google = scope.google || {};\n",
              "scope.google.colab = scope.google.colab || {};\n",
              "scope.google.colab._files = {\n",
              "  _uploadFiles,\n",
              "  _uploadFilesContinue,\n",
              "};\n",
              "})(self);\n",
              "</script> "
            ]
          },
          "metadata": {}
        },
        {
          "output_type": "stream",
          "name": "stdout",
          "text": [
            "Saving kaggle.json to kaggle.json\n"
          ]
        },
        {
          "output_type": "execute_result",
          "data": {
            "text/plain": [
              "{'kaggle.json': b'{\"username\":\"vigilantius\",\"key\":\"32eb8a75f3acb58b3446037836717e7e\"}'}"
            ]
          },
          "metadata": {},
          "execution_count": 2
        }
      ]
    },
    {
      "cell_type": "code",
      "source": [
        "!mkdir ~/.kaggle/\n",
        "!cp kaggle.json ~/.kaggle/\n",
        "!chmod 600 ~/.kaggle/kaggle.json"
      ],
      "metadata": {
        "id": "i5K4CByBwB9m"
      },
      "execution_count": 3,
      "outputs": []
    },
    {
      "cell_type": "code",
      "source": [
        "!kaggle datasets download -d gpiosenka/100-bird-species"
      ],
      "metadata": {
        "colab": {
          "base_uri": "https://localhost:8080/"
        },
        "id": "ehBswQlZw83p",
        "outputId": "55aeed1d-e854-4b04-aee4-5176c488754a"
      },
      "execution_count": 4,
      "outputs": [
        {
          "output_type": "stream",
          "name": "stdout",
          "text": [
            "Warning: Looks like you're using an outdated API Version, please consider updating (server 1.6.17 / client 1.6.14)\n",
            "Dataset URL: https://www.kaggle.com/datasets/gpiosenka/100-bird-species\n",
            "License(s): CC0-1.0\n",
            "Downloading 100-bird-species.zip to /content\n",
            "100% 1.96G/1.96G [01:30<00:00, 23.1MB/s]\n",
            "100% 1.96G/1.96G [01:30<00:00, 23.1MB/s]\n"
          ]
        }
      ]
    },
    {
      "cell_type": "code",
      "source": [
        "!unzip -qq 100-bird-species.zip"
      ],
      "metadata": {
        "id": "BxhjWCeWyBU1"
      },
      "execution_count": 5,
      "outputs": []
    },
    {
      "cell_type": "markdown",
      "source": [
        "2 Construct a model\n",
        "\n",
        "1. Convert the jpg data into numpy arrays. THe file paths are shown in birds.csv\n",
        "\n",
        "train_data:(samples, height, width, rgb)"
      ],
      "metadata": {
        "id": "7J-bO6h00WWR"
      }
    },
    {
      "cell_type": "code",
      "source": [
        "import csv\n",
        "\n",
        "with open(\"birds.csv\", \"r\") as f:\n",
        "    dataReader = csv.reader(f)\n",
        "    i = 0\n",
        "    for row in dataReader:\n",
        "        print(row)\n",
        "        i += 1\n",
        "        if i == 5:\n",
        "            break"
      ],
      "metadata": {
        "colab": {
          "base_uri": "https://localhost:8080/"
        },
        "id": "mQDvFjEw5leX",
        "outputId": "1e422220-e7fc-4dfa-b9e1-75be6d1cebbe"
      },
      "execution_count": 6,
      "outputs": [
        {
          "output_type": "stream",
          "name": "stdout",
          "text": [
            "['class id', 'filepaths', 'labels', 'data set', 'scientific name']\n",
            "['0.0', 'train/ABBOTTS BABBLER/001.jpg', 'ABBOTTS BABBLER', 'train', 'MALACOCINCLA ABBOTTI']\n",
            "['0.0', 'train/ABBOTTS BABBLER/007.jpg', 'ABBOTTS BABBLER', 'train', 'MALACOCINCLA ABBOTTI']\n",
            "['0.0', 'train/ABBOTTS BABBLER/008.jpg', 'ABBOTTS BABBLER', 'train', 'MALACOCINCLA ABBOTTI']\n",
            "['0.0', 'train/ABBOTTS BABBLER/009.jpg', 'ABBOTTS BABBLER', 'train', 'MALACOCINCLA ABBOTTI']\n"
          ]
        }
      ]
    },
    {
      "cell_type": "code",
      "source": [
        "import numpy as np\n",
        "valid_label = []\n",
        "with open(\"birds.csv\", \"r\") as f:\n",
        "    dataReader = csv.reader(f)\n",
        "    for row in dataReader:\n",
        "        if row[3] == \"valid\":\n",
        "            valid_label.append(row[2])\n",
        "valid_label = np.array(valid_label)\n",
        "valid_label_shuffled = np.random.permutation(valid_label)\n",
        "random_classifier_accuracy = []\n",
        "\n",
        "for _ in range(5):\n",
        "    T = 0\n",
        "    for i in range(len(valid_label)):\n",
        "        if valid_label[i] == valid_label_shuffled[i]:\n",
        "            T += 1\n",
        "    random_classifier_accuracy.append(T/len(valid_label))\n",
        "print(random_classifier_accuracy)\n",
        "print(sum(random_classifier_accuracy)/5)\n",
        "\n",
        "\n"
      ],
      "metadata": {
        "colab": {
          "base_uri": "https://localhost:8080/"
        },
        "id": "ikORM9-e_o7h",
        "outputId": "a71a9098-e6cf-4555-eb91-1f8b52abd40f"
      },
      "execution_count": 18,
      "outputs": [
        {
          "output_type": "stream",
          "name": "stdout",
          "text": [
            "[0.004190476190476191, 0.004190476190476191, 0.004190476190476191, 0.004190476190476191, 0.004190476190476191]\n",
            "0.004190476190476191\n"
          ]
        }
      ]
    },
    {
      "cell_type": "code",
      "source": [
        "from tensorflow import keras\n",
        "from tensorflow.keras import layers\n",
        "inputs = keras.Input(shape=(224,224,3))\n",
        "x = layers.Rescaling(1./255)(inputs)\n",
        "x = layers.Conv2D(filters=32, kernel_size=3, activation=\"relu\")(x)\n",
        "x = layers.MaxPooling2D(pool_size=2)(x)\n",
        "x = layers.Conv2D(filters=64, kernel_size=3, activation=\"relu\")(x)\n",
        "x = layers.MaxPooling2D(pool_size=2)(x)\n",
        "x = layers.Conv2D(filters=128, kernel_size=3, activation=\"relu\")(x)\n",
        "x = layers.MaxPooling2D(pool_size=2)(x)\n",
        "x = layers.Conv2D(filters=256, kernel_size=3, activation=\"relu\")(x)\n",
        "x = layers.MaxPooling2D(pool_size=2)(x)\n",
        "x = layers.Conv2D(filters=256, kernel_size=3, activation=\"relu\")(x)\n",
        "x = layers.Flatten()(x)\n",
        "outputs = layers.Dense(units=525, activation=\"softmax\")(x)\n",
        "model = keras.Model(inputs=inputs, outputs=outputs)"
      ],
      "metadata": {
        "id": "qUfSossL-AL8"
      },
      "execution_count": 7,
      "outputs": []
    },
    {
      "cell_type": "markdown",
      "source": [
        "3 Preprocess the data"
      ],
      "metadata": {
        "id": "_E8uKSyEC8rD"
      }
    },
    {
      "cell_type": "code",
      "source": [
        "!pip install Pillow"
      ],
      "metadata": {
        "colab": {
          "base_uri": "https://localhost:8080/"
        },
        "id": "OJkTd8BQ05bi",
        "outputId": "7725ae44-03f0-4d91-9a26-9ba29e562320"
      },
      "execution_count": 8,
      "outputs": [
        {
          "output_type": "stream",
          "name": "stdout",
          "text": [
            "Requirement already satisfied: Pillow in /usr/local/lib/python3.10/dist-packages (9.4.0)\n"
          ]
        }
      ]
    },
    {
      "cell_type": "code",
      "source": [
        "from tensorflow.keras.utils import image_dataset_from_directory\n",
        "\n",
        "train_dataset = image_dataset_from_directory(\n",
        "    \"train\",\n",
        "    image_size=(224,224),\n",
        "    batch_size=512\n",
        ")\n",
        "valid_dataset = image_dataset_from_directory(\n",
        "    \"valid\",\n",
        "    image_size=(224,224),\n",
        "    batch_size=512\n",
        ")\n",
        "test_dataset = image_dataset_from_directory(\n",
        "    \"test\",\n",
        "    image_size=(224,224),\n",
        "    batch_size=512\n",
        ")"
      ],
      "metadata": {
        "colab": {
          "base_uri": "https://localhost:8080/"
        },
        "id": "-QcSXWetzLhN",
        "outputId": "0a7bfb09-6505-4738-9e9a-713504a3a773"
      },
      "execution_count": 9,
      "outputs": [
        {
          "output_type": "stream",
          "name": "stdout",
          "text": [
            "Found 84635 files belonging to 525 classes.\n",
            "Found 2625 files belonging to 525 classes.\n",
            "Found 2625 files belonging to 525 classes.\n"
          ]
        }
      ]
    },
    {
      "cell_type": "markdown",
      "source": [
        "4 Train"
      ],
      "metadata": {
        "id": "Af-91_bQDZKJ"
      }
    },
    {
      "cell_type": "code",
      "source": [
        "callbacks = [\n",
        "    keras.callbacks.ModelCheckpoint(\n",
        "        filepath=\"convnet_bird.keras\",\n",
        "        save_best_only=True,\n",
        "        monitor=\"val_loss\"\n",
        "    ),\n",
        "    keras.callbacks.EarlyStopping(\n",
        "        monitor=\"val_loss\",\n",
        "        patience=2\n",
        "    )\n",
        "]\n",
        "\n",
        "model.compile(\n",
        "    optimizer=\"rmsprop\",\n",
        "    loss=\"sparse_categorical_crossentropy\",\n",
        "    metrics=[\"accuracy\"]\n",
        ")\n",
        "history = model.fit(\n",
        "    train_dataset,\n",
        "    epochs=30,\n",
        "    validation_data=valid_dataset,\n",
        "    callbacks=callbacks\n",
        ")\n"
      ],
      "metadata": {
        "colab": {
          "base_uri": "https://localhost:8080/"
        },
        "id": "ks23Vt3I6Wsv",
        "outputId": "c5f31040-f575-4abb-bd7b-8ad78e6810ed"
      },
      "execution_count": 10,
      "outputs": [
        {
          "output_type": "stream",
          "name": "stdout",
          "text": [
            "Epoch 1/30\n",
            "166/166 [==============================] - 48s 209ms/step - loss: 5.7682 - accuracy: 0.0330 - val_loss: 4.8015 - val_accuracy: 0.1048\n",
            "Epoch 2/30\n",
            "166/166 [==============================] - 32s 187ms/step - loss: 4.2437 - accuracy: 0.2014 - val_loss: 3.4919 - val_accuracy: 0.3128\n",
            "Epoch 3/30\n",
            "166/166 [==============================] - 31s 187ms/step - loss: 2.9624 - accuracy: 0.3970 - val_loss: 2.8629 - val_accuracy: 0.4110\n",
            "Epoch 4/30\n",
            "166/166 [==============================] - 32s 188ms/step - loss: 1.9131 - accuracy: 0.5810 - val_loss: 2.5440 - val_accuracy: 0.4758\n",
            "Epoch 5/30\n",
            "166/166 [==============================] - 31s 184ms/step - loss: 1.0343 - accuracy: 0.7537 - val_loss: 2.8725 - val_accuracy: 0.5173\n",
            "Epoch 6/30\n",
            "166/166 [==============================] - 31s 184ms/step - loss: 0.4661 - accuracy: 0.8801 - val_loss: 3.2333 - val_accuracy: 0.5550\n"
          ]
        }
      ]
    },
    {
      "cell_type": "markdown",
      "source": [
        "Validation accuracy of 56 %.\n",
        "\n"
      ],
      "metadata": {
        "id": "88q7f6x-DhZ9"
      }
    },
    {
      "cell_type": "markdown",
      "source": [
        "**2. Data augmentation**"
      ],
      "metadata": {
        "id": "doSaod0nD4q6"
      }
    },
    {
      "cell_type": "code",
      "source": [
        "#Model construction\n",
        "data_augmentation = keras.Sequential([\n",
        "    layers.RandomFlip(\"horizontal\"),\n",
        "    layers.RandomRotation(0.1),\n",
        "    layers.RandomZoom(0.2)\n",
        "])\n",
        "\n",
        "inputs = keras.Input(shape=(224,224,3))\n",
        "x = data_augmentation(inputs)\n",
        "x = layers.Rescaling(1./255)(x)\n",
        "x = layers.Conv2D(filters=32, kernel_size=3, activation=\"relu\")(x)\n",
        "x = layers.MaxPooling2D(pool_size=2)(x)\n",
        "x = layers.Conv2D(filters=64, kernel_size=3, activation=\"relu\")(x)\n",
        "x = layers.MaxPooling2D(pool_size=2)(x)\n",
        "x = layers.Conv2D(filters=128, kernel_size=3, activation=\"relu\")(x)\n",
        "x = layers.MaxPooling2D(pool_size=2)(x)\n",
        "x = layers.Conv2D(filters=256, kernel_size=3, activation=\"relu\")(x)\n",
        "x = layers.MaxPooling2D(pool_size=2)(x)\n",
        "x = layers.Conv2D(filters=256, kernel_size=3, activation=\"relu\")(x)\n",
        "x = layers.Flatten()(x)\n",
        "outputs = layers.Dense(units=525, activation=\"softmax\")(x)\n",
        "model = keras.Model(inputs=inputs, outputs=outputs)"
      ],
      "metadata": {
        "id": "WBkNLwX3CxH7"
      },
      "execution_count": 21,
      "outputs": []
    },
    {
      "cell_type": "code",
      "source": [
        "model.summary()"
      ],
      "metadata": {
        "colab": {
          "base_uri": "https://localhost:8080/"
        },
        "id": "rXMsLBO8Hysp",
        "outputId": "483e75d3-97b8-45c8-8a01-6ac6a6b6fcb0"
      },
      "execution_count": 24,
      "outputs": [
        {
          "output_type": "stream",
          "name": "stdout",
          "text": [
            "Model: \"model_1\"\n",
            "_________________________________________________________________\n",
            " Layer (type)                Output Shape              Param #   \n",
            "=================================================================\n",
            " input_2 (InputLayer)        [(None, 224, 224, 3)]     0         \n",
            "                                                                 \n",
            " sequential (Sequential)     (None, 224, 224, 3)       0         \n",
            "                                                                 \n",
            " rescaling_1 (Rescaling)     (None, 224, 224, 3)       0         \n",
            "                                                                 \n",
            " conv2d_5 (Conv2D)           (None, 222, 222, 32)      896       \n",
            "                                                                 \n",
            " max_pooling2d_4 (MaxPoolin  (None, 111, 111, 32)      0         \n",
            " g2D)                                                            \n",
            "                                                                 \n",
            " conv2d_6 (Conv2D)           (None, 109, 109, 64)      18496     \n",
            "                                                                 \n",
            " max_pooling2d_5 (MaxPoolin  (None, 54, 54, 64)        0         \n",
            " g2D)                                                            \n",
            "                                                                 \n",
            " conv2d_7 (Conv2D)           (None, 52, 52, 128)       73856     \n",
            "                                                                 \n",
            " max_pooling2d_6 (MaxPoolin  (None, 26, 26, 128)       0         \n",
            " g2D)                                                            \n",
            "                                                                 \n",
            " conv2d_8 (Conv2D)           (None, 24, 24, 256)       295168    \n",
            "                                                                 \n",
            " max_pooling2d_7 (MaxPoolin  (None, 12, 12, 256)       0         \n",
            " g2D)                                                            \n",
            "                                                                 \n",
            " conv2d_9 (Conv2D)           (None, 10, 10, 256)       590080    \n",
            "                                                                 \n",
            " flatten_1 (Flatten)         (None, 25600)             0         \n",
            "                                                                 \n",
            " dense_1 (Dense)             (None, 525)               13440525  \n",
            "                                                                 \n",
            "=================================================================\n",
            "Total params: 14419021 (55.00 MB)\n",
            "Trainable params: 14419021 (55.00 MB)\n",
            "Non-trainable params: 0 (0.00 Byte)\n",
            "_________________________________________________________________\n"
          ]
        }
      ]
    },
    {
      "cell_type": "code",
      "source": [
        "callbacks = [\n",
        "    keras.callbacks.ModelCheckpoint(\n",
        "        filepath=\"convnet_bird.keras\",\n",
        "        save_best_only=True,\n",
        "        monitor=\"val_loss\"\n",
        "    ),\n",
        "    keras.callbacks.EarlyStopping(\n",
        "        monitor=\"val_loss\",\n",
        "        patience=2\n",
        "    )\n",
        "]\n",
        "\n",
        "model.compile(\n",
        "    optimizer=\"rmsprop\",\n",
        "    loss=\"sparse_categorical_crossentropy\",\n",
        "    metrics=[\"accuracy\"]\n",
        ")\n",
        "history = model.fit(\n",
        "    train_dataset,\n",
        "    epochs=30,\n",
        "    validation_data=valid_dataset,\n",
        "    callbacks=callbacks\n",
        ")\n"
      ],
      "metadata": {
        "colab": {
          "base_uri": "https://localhost:8080/"
        },
        "id": "wwHbMsCrE6Kj",
        "outputId": "079a4b33-cfdf-49d0-b94d-ed536f02a397"
      },
      "execution_count": 23,
      "outputs": [
        {
          "output_type": "stream",
          "name": "stdout",
          "text": [
            "Epoch 1/30\n",
            "166/166 [==============================] - 34s 194ms/step - loss: 5.0306 - accuracy: 0.0835 - val_loss: 4.3433 - val_accuracy: 0.1448\n",
            "Epoch 2/30\n",
            "166/166 [==============================] - 32s 193ms/step - loss: 4.0728 - accuracy: 0.1981 - val_loss: 3.2341 - val_accuracy: 0.3189\n",
            "Epoch 3/30\n",
            "166/166 [==============================] - 32s 193ms/step - loss: 3.3973 - accuracy: 0.3004 - val_loss: 2.6959 - val_accuracy: 0.4389\n",
            "Epoch 4/30\n",
            "166/166 [==============================] - 32s 190ms/step - loss: 2.9113 - accuracy: 0.3852 - val_loss: 2.9070 - val_accuracy: 0.4350\n",
            "Epoch 5/30\n",
            "166/166 [==============================] - 32s 193ms/step - loss: 2.5190 - accuracy: 0.4549 - val_loss: 2.0970 - val_accuracy: 0.5501\n",
            "Epoch 6/30\n",
            "166/166 [==============================] - 32s 193ms/step - loss: 2.2349 - accuracy: 0.5079 - val_loss: 1.9053 - val_accuracy: 0.5840\n",
            "Epoch 7/30\n",
            "166/166 [==============================] - 32s 190ms/step - loss: 2.0064 - accuracy: 0.5520 - val_loss: 1.9546 - val_accuracy: 0.5813\n",
            "Epoch 8/30\n",
            "166/166 [==============================] - 32s 190ms/step - loss: 1.8047 - accuracy: 0.5908 - val_loss: 1.9757 - val_accuracy: 0.5909\n"
          ]
        }
      ]
    },
    {
      "cell_type": "markdown",
      "source": [
        "Validation accuracy of 59% ;slight improvement.\n"
      ],
      "metadata": {
        "id": "3KeBpMpLGQY8"
      }
    },
    {
      "cell_type": "markdown",
      "source": [
        "**3 Deepen the layers**"
      ],
      "metadata": {
        "id": "rq-kYP4PGYqc"
      }
    },
    {
      "cell_type": "code",
      "source": [
        "#Model construction\n",
        "data_augmentation = keras.Sequential([\n",
        "    layers.RandomFlip(\"horizontal\"),\n",
        "    layers.RandomRotation(0.1),\n",
        "    layers.RandomZoom(0.2)\n",
        "])\n",
        "\n",
        "inputs = keras.Input(shape=(224,224,3))\n",
        "x = data_augmentation(inputs)\n",
        "x = layers.Rescaling(1./255)(x)\n",
        "x = layers.Conv2D(filters=32, kernel_size=3, activation=\"relu\")(x)\n",
        "x = layers.MaxPooling2D(pool_size=2)(x)\n",
        "x = layers.Conv2D(filters=64, kernel_size=3, activation=\"relu\")(x)\n",
        "x = layers.MaxPooling2D(pool_size=2)(x)\n",
        "x = layers.Conv2D(filters=128, kernel_size=3, activation=\"relu\")(x)\n",
        "x = layers.MaxPooling2D(pool_size=2)(x)\n",
        "x = layers.Conv2D(filters=256, kernel_size=3, activation=\"relu\")(x)\n",
        "x = layers.MaxPooling2D(pool_size=2)(x)\n",
        "x = layers.Conv2D(filters=512, kernel_size=3, activation=\"relu\")(x)\n",
        "x = layers.MaxPooling2D(pool_size=2)(x)\n",
        "x = layers.Conv2D(filters=512, kernel_size=3, activation=\"relu\")(x)\n",
        "x = layers.Flatten()(x)\n",
        "outputs = layers.Dense(units=525, activation=\"softmax\")(x)\n",
        "model = keras.Model(inputs=inputs, outputs=outputs)"
      ],
      "metadata": {
        "id": "eUPXTCZYHs8O"
      },
      "execution_count": 25,
      "outputs": []
    },
    {
      "cell_type": "code",
      "source": [
        "model.summary()"
      ],
      "metadata": {
        "colab": {
          "base_uri": "https://localhost:8080/"
        },
        "id": "dU2y-EnbJmY1",
        "outputId": "4c25fb20-5819-463c-deb6-27841f675686"
      },
      "execution_count": 27,
      "outputs": [
        {
          "output_type": "stream",
          "name": "stdout",
          "text": [
            "Model: \"model_2\"\n",
            "_________________________________________________________________\n",
            " Layer (type)                Output Shape              Param #   \n",
            "=================================================================\n",
            " input_3 (InputLayer)        [(None, 224, 224, 3)]     0         \n",
            "                                                                 \n",
            " sequential_1 (Sequential)   (None, 224, 224, 3)       0         \n",
            "                                                                 \n",
            " rescaling_2 (Rescaling)     (None, 224, 224, 3)       0         \n",
            "                                                                 \n",
            " conv2d_10 (Conv2D)          (None, 222, 222, 32)      896       \n",
            "                                                                 \n",
            " max_pooling2d_8 (MaxPoolin  (None, 111, 111, 32)      0         \n",
            " g2D)                                                            \n",
            "                                                                 \n",
            " conv2d_11 (Conv2D)          (None, 109, 109, 64)      18496     \n",
            "                                                                 \n",
            " max_pooling2d_9 (MaxPoolin  (None, 54, 54, 64)        0         \n",
            " g2D)                                                            \n",
            "                                                                 \n",
            " conv2d_12 (Conv2D)          (None, 52, 52, 128)       73856     \n",
            "                                                                 \n",
            " max_pooling2d_10 (MaxPooli  (None, 26, 26, 128)       0         \n",
            " ng2D)                                                           \n",
            "                                                                 \n",
            " conv2d_13 (Conv2D)          (None, 24, 24, 256)       295168    \n",
            "                                                                 \n",
            " max_pooling2d_11 (MaxPooli  (None, 12, 12, 256)       0         \n",
            " ng2D)                                                           \n",
            "                                                                 \n",
            " conv2d_14 (Conv2D)          (None, 10, 10, 512)       1180160   \n",
            "                                                                 \n",
            " max_pooling2d_12 (MaxPooli  (None, 5, 5, 512)         0         \n",
            " ng2D)                                                           \n",
            "                                                                 \n",
            " conv2d_15 (Conv2D)          (None, 3, 3, 512)         2359808   \n",
            "                                                                 \n",
            " flatten_2 (Flatten)         (None, 4608)              0         \n",
            "                                                                 \n",
            " dense_2 (Dense)             (None, 525)               2419725   \n",
            "                                                                 \n",
            "=================================================================\n",
            "Total params: 6348109 (24.22 MB)\n",
            "Trainable params: 6348109 (24.22 MB)\n",
            "Non-trainable params: 0 (0.00 Byte)\n",
            "_________________________________________________________________\n"
          ]
        }
      ]
    },
    {
      "cell_type": "code",
      "source": [
        "callbacks = [\n",
        "    keras.callbacks.ModelCheckpoint(\n",
        "        filepath=\"convnet_bird.keras\",\n",
        "        save_best_only=True,\n",
        "        monitor=\"val_loss\"\n",
        "    ),\n",
        "    keras.callbacks.EarlyStopping(\n",
        "        monitor=\"val_loss\",\n",
        "        patience=2\n",
        "    )\n",
        "]\n",
        "\n",
        "model.compile(\n",
        "    optimizer=\"rmsprop\",\n",
        "    loss=\"sparse_categorical_crossentropy\",\n",
        "    metrics=[\"accuracy\"]\n",
        ")\n",
        "history = model.fit(\n",
        "    train_dataset,\n",
        "    epochs=30,\n",
        "    validation_data=valid_dataset,\n",
        "    callbacks=callbacks\n",
        ")\n"
      ],
      "metadata": {
        "colab": {
          "base_uri": "https://localhost:8080/"
        },
        "id": "iZqIASfWIArH",
        "outputId": "a9cea9bc-8613-4862-a1dd-efa265c80476"
      },
      "execution_count": 26,
      "outputs": [
        {
          "output_type": "stream",
          "name": "stdout",
          "text": [
            "Epoch 1/30\n",
            "166/166 [==============================] - 36s 198ms/step - loss: 6.0924 - accuracy: 0.0068 - val_loss: 5.6500 - val_accuracy: 0.0210\n",
            "Epoch 2/30\n",
            "166/166 [==============================] - 32s 193ms/step - loss: 5.3586 - accuracy: 0.0444 - val_loss: 4.9269 - val_accuracy: 0.0773\n",
            "Epoch 3/30\n",
            "166/166 [==============================] - 32s 193ms/step - loss: 4.5225 - accuracy: 0.1232 - val_loss: 4.0998 - val_accuracy: 0.1825\n",
            "Epoch 4/30\n",
            "166/166 [==============================] - 32s 192ms/step - loss: 3.8697 - accuracy: 0.2141 - val_loss: 3.4011 - val_accuracy: 0.3105\n",
            "Epoch 5/30\n",
            "166/166 [==============================] - 32s 192ms/step - loss: 3.3562 - accuracy: 0.2959 - val_loss: 2.6315 - val_accuracy: 0.4137\n",
            "Epoch 6/30\n",
            "166/166 [==============================] - 32s 192ms/step - loss: 2.9498 - accuracy: 0.3662 - val_loss: 2.5707 - val_accuracy: 0.4354\n",
            "Epoch 7/30\n",
            "166/166 [==============================] - 32s 192ms/step - loss: 2.6264 - accuracy: 0.4232 - val_loss: 2.3692 - val_accuracy: 0.4869\n",
            "Epoch 8/30\n",
            "166/166 [==============================] - 32s 192ms/step - loss: 2.3490 - accuracy: 0.4752 - val_loss: 1.9543 - val_accuracy: 0.5528\n",
            "Epoch 9/30\n",
            "166/166 [==============================] - 32s 193ms/step - loss: 2.1114 - accuracy: 0.5211 - val_loss: 1.7326 - val_accuracy: 0.6019\n",
            "Epoch 10/30\n",
            "166/166 [==============================] - 32s 191ms/step - loss: 1.9110 - accuracy: 0.5593 - val_loss: 2.2599 - val_accuracy: 0.5429\n",
            "Epoch 11/30\n",
            "166/166 [==============================] - 32s 191ms/step - loss: 1.7396 - accuracy: 0.5948 - val_loss: 1.7857 - val_accuracy: 0.6076\n"
          ]
        }
      ]
    },
    {
      "cell_type": "markdown",
      "source": [
        "Validation accuracy of 61 %\n",
        "\n",
        "Takeaway: Keep stacking convolution layers until the width and height of the images are 3."
      ],
      "metadata": {
        "id": "GJHtu-NlJcG5"
      }
    }
  ],
  "metadata": {
    "accelerator": "GPU",
    "colab": {
      "provenance": [],
      "gpuType": "A100",
      "machine_shape": "hm"
    },
    "kernelspec": {
      "display_name": "Python 3",
      "name": "python3"
    },
    "language_info": {
      "name": "python"
    }
  },
  "nbformat": 4,
  "nbformat_minor": 0
}